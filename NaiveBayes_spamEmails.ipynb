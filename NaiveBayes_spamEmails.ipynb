{
  "nbformat": 4,
  "nbformat_minor": 0,
  "metadata": {
    "colab": {
      "name": "NaiveBayes-spamEmails.ipynb",
      "provenance": [],
      "collapsed_sections": [],
      "include_colab_link": true
    },
    "kernelspec": {
      "display_name": "Python 3",
      "language": "python",
      "name": "python3"
    },
    "language_info": {
      "codemirror_mode": {
        "name": "ipython",
        "version": 3
      },
      "file_extension": ".py",
      "mimetype": "text/x-python",
      "name": "python",
      "nbconvert_exporter": "python",
      "pygments_lexer": "ipython3",
      "version": "3.6.6"
    }
  },
  "cells": [
    {
      "cell_type": "markdown",
      "metadata": {
        "id": "view-in-github",
        "colab_type": "text"
      },
      "source": [
        "<a href=\"https://colab.research.google.com/github/LeVuMinhHuy/-CrNe-Lab1/blob/master/NaiveBayes_spamEmails.ipynb\" target=\"_parent\"><img src=\"https://colab.research.google.com/assets/colab-badge.svg\" alt=\"Open In Colab\"/></a>"
      ]
    },
    {
      "cell_type": "markdown",
      "metadata": {
        "id": "bCU8xODGloaP"
      },
      "source": [
        "# Báo cáo Bài tập lớn môn Học máy \n",
        "## Hiện thực bộ phân lớp Naive Bayes và ứng dụng vào bài toán phân loại tin nhắn spam\n"
      ]
    },
    {
      "cell_type": "markdown",
      "metadata": {
        "id": "8okhwxqil-Y4"
      },
      "source": [
        "## Cấu hình ban đầu"
      ]
    },
    {
      "cell_type": "code",
      "metadata": {
        "id": "0exZkuWwl7kC"
      },
      "source": [
        "dataset = \"spam.csv\""
      ],
      "execution_count": 1,
      "outputs": []
    },
    {
      "cell_type": "markdown",
      "metadata": {
        "id": "G8pJBTNuloaR"
      },
      "source": [
        "## Import các thư viện cơ bản để xử lý tính toán và phân tích"
      ]
    },
    {
      "cell_type": "code",
      "metadata": {
        "id": "FjP6m4uGloaS"
      },
      "source": [
        "import numpy as np\n",
        "import matplotlib.pyplot as plt\n",
        "from collections import Counter\n",
        "from sklearn import feature_extraction, model_selection, metrics, svm\n",
        "from IPython.display import Image\n",
        "import warnings\n",
        "warnings.filterwarnings(\"ignore\")\n",
        "%matplotlib inline  "
      ],
      "execution_count": 4,
      "outputs": []
    },
    {
      "cell_type": "markdown",
      "metadata": {
        "id": "wtp7YrntloaX"
      },
      "source": [
        "## Tải tập dataset "
      ]
    },
    {
      "cell_type": "code",
      "metadata": {
        "colab": {
          "base_uri": "https://localhost:8080/",
          "height": 359
        },
        "id": "xZKjoqOYloaY",
        "outputId": "8568d9db-9750-479a-87ed-d6f105491271"
      },
      "source": [
        "import pandas as pd\n",
        "\n",
        "data = pd.read_csv(dataset, encoding='latin-1')\n",
        "data.head(n=10)"
      ],
      "execution_count": 5,
      "outputs": [
        {
          "output_type": "execute_result",
          "data": {
            "text/html": [
              "<div>\n",
              "<style scoped>\n",
              "    .dataframe tbody tr th:only-of-type {\n",
              "        vertical-align: middle;\n",
              "    }\n",
              "\n",
              "    .dataframe tbody tr th {\n",
              "        vertical-align: top;\n",
              "    }\n",
              "\n",
              "    .dataframe thead th {\n",
              "        text-align: right;\n",
              "    }\n",
              "</style>\n",
              "<table border=\"1\" class=\"dataframe\">\n",
              "  <thead>\n",
              "    <tr style=\"text-align: right;\">\n",
              "      <th></th>\n",
              "      <th>v1</th>\n",
              "      <th>v2</th>\n",
              "      <th>Unnamed: 2</th>\n",
              "      <th>Unnamed: 3</th>\n",
              "      <th>Unnamed: 4</th>\n",
              "    </tr>\n",
              "  </thead>\n",
              "  <tbody>\n",
              "    <tr>\n",
              "      <th>0</th>\n",
              "      <td>ham</td>\n",
              "      <td>Go until jurong point, crazy.. Available only ...</td>\n",
              "      <td>NaN</td>\n",
              "      <td>NaN</td>\n",
              "      <td>NaN</td>\n",
              "    </tr>\n",
              "    <tr>\n",
              "      <th>1</th>\n",
              "      <td>ham</td>\n",
              "      <td>Ok lar... Joking wif u oni...</td>\n",
              "      <td>NaN</td>\n",
              "      <td>NaN</td>\n",
              "      <td>NaN</td>\n",
              "    </tr>\n",
              "    <tr>\n",
              "      <th>2</th>\n",
              "      <td>spam</td>\n",
              "      <td>Free entry in 2 a wkly comp to win FA Cup fina...</td>\n",
              "      <td>NaN</td>\n",
              "      <td>NaN</td>\n",
              "      <td>NaN</td>\n",
              "    </tr>\n",
              "    <tr>\n",
              "      <th>3</th>\n",
              "      <td>ham</td>\n",
              "      <td>U dun say so early hor... U c already then say...</td>\n",
              "      <td>NaN</td>\n",
              "      <td>NaN</td>\n",
              "      <td>NaN</td>\n",
              "    </tr>\n",
              "    <tr>\n",
              "      <th>4</th>\n",
              "      <td>ham</td>\n",
              "      <td>Nah I don't think he goes to usf, he lives aro...</td>\n",
              "      <td>NaN</td>\n",
              "      <td>NaN</td>\n",
              "      <td>NaN</td>\n",
              "    </tr>\n",
              "    <tr>\n",
              "      <th>5</th>\n",
              "      <td>spam</td>\n",
              "      <td>FreeMsg Hey there darling it's been 3 week's n...</td>\n",
              "      <td>NaN</td>\n",
              "      <td>NaN</td>\n",
              "      <td>NaN</td>\n",
              "    </tr>\n",
              "    <tr>\n",
              "      <th>6</th>\n",
              "      <td>ham</td>\n",
              "      <td>Even my brother is not like to speak with me. ...</td>\n",
              "      <td>NaN</td>\n",
              "      <td>NaN</td>\n",
              "      <td>NaN</td>\n",
              "    </tr>\n",
              "    <tr>\n",
              "      <th>7</th>\n",
              "      <td>ham</td>\n",
              "      <td>As per your request 'Melle Melle (Oru Minnamin...</td>\n",
              "      <td>NaN</td>\n",
              "      <td>NaN</td>\n",
              "      <td>NaN</td>\n",
              "    </tr>\n",
              "    <tr>\n",
              "      <th>8</th>\n",
              "      <td>spam</td>\n",
              "      <td>WINNER!! As a valued network customer you have...</td>\n",
              "      <td>NaN</td>\n",
              "      <td>NaN</td>\n",
              "      <td>NaN</td>\n",
              "    </tr>\n",
              "    <tr>\n",
              "      <th>9</th>\n",
              "      <td>spam</td>\n",
              "      <td>Had your mobile 11 months or more? U R entitle...</td>\n",
              "      <td>NaN</td>\n",
              "      <td>NaN</td>\n",
              "      <td>NaN</td>\n",
              "    </tr>\n",
              "  </tbody>\n",
              "</table>\n",
              "</div>"
            ],
            "text/plain": [
              "     v1  ... Unnamed: 4\n",
              "0   ham  ...        NaN\n",
              "1   ham  ...        NaN\n",
              "2  spam  ...        NaN\n",
              "3   ham  ...        NaN\n",
              "4   ham  ...        NaN\n",
              "5  spam  ...        NaN\n",
              "6   ham  ...        NaN\n",
              "7   ham  ...        NaN\n",
              "8  spam  ...        NaN\n",
              "9  spam  ...        NaN\n",
              "\n",
              "[10 rows x 5 columns]"
            ]
          },
          "metadata": {
            "tags": []
          },
          "execution_count": 5
        }
      ]
    },
    {
      "cell_type": "code",
      "metadata": {
        "colab": {
          "base_uri": "https://localhost:8080/"
        },
        "id": "CReao3VFkYUi",
        "outputId": "ae9e124d-3a02-4195-99db-b9316d54e6c5"
      },
      "source": [
        "data.iloc[2]"
      ],
      "execution_count": 7,
      "outputs": [
        {
          "output_type": "execute_result",
          "data": {
            "text/plain": [
              "v1                                                         spam\n",
              "v2            Free entry in 2 a wkly comp to win FA Cup fina...\n",
              "Unnamed: 2                                                  NaN\n",
              "Unnamed: 3                                                  NaN\n",
              "Unnamed: 4                                                  NaN\n",
              "Name: 2, dtype: object"
            ]
          },
          "metadata": {
            "tags": []
          },
          "execution_count": 7
        }
      ]
    },
    {
      "cell_type": "markdown",
      "metadata": {
        "id": "83t1OglO2Yjn"
      },
      "source": [
        "Có hai loại nhãn là:\n",
        "\n",
        "* `ham`: Là những tin nhắn mong muốn, không phải spam. (https://vi.wiktionary.org/wiki/ham_e-mail)\n",
        "* `spam`: Là những tin nhắn rác"
      ]
    },
    {
      "cell_type": "markdown",
      "metadata": {
        "id": "ZiRihgxLloaf"
      },
      "source": [
        "## Phân tích sự phân phối của các tin nhắn spam và non-spam"
      ]
    },
    {
      "cell_type": "code",
      "metadata": {
        "id": "DEmOvzHvAoxQ"
      },
      "source": [
        "count_Class=pd.value_counts(data[\"v1\"], sort= True)"
      ],
      "execution_count": 8,
      "outputs": []
    },
    {
      "cell_type": "code",
      "metadata": {
        "id": "2NJOwfNJAoxQ",
        "colab": {
          "base_uri": "https://localhost:8080/"
        },
        "outputId": "54f7c6d7-9c96-48b2-9992-727fff0ec950"
      },
      "source": [
        "count_Class"
      ],
      "execution_count": 9,
      "outputs": [
        {
          "output_type": "execute_result",
          "data": {
            "text/plain": [
              "ham     4825\n",
              "spam     747\n",
              "Name: v1, dtype: int64"
            ]
          },
          "metadata": {
            "tags": []
          },
          "execution_count": 9
        }
      ]
    },
    {
      "cell_type": "code",
      "metadata": {
        "id": "m7Hpyw03AoxR",
        "colab": {
          "base_uri": "https://localhost:8080/"
        },
        "outputId": "a60db785-f770-4b29-ac45-9cecdcce817d"
      },
      "source": [
        "type(count_Class)"
      ],
      "execution_count": 10,
      "outputs": [
        {
          "output_type": "execute_result",
          "data": {
            "text/plain": [
              "pandas.core.series.Series"
            ]
          },
          "metadata": {
            "tags": []
          },
          "execution_count": 10
        }
      ]
    },
    {
      "cell_type": "code",
      "metadata": {
        "colab": {
          "base_uri": "https://localhost:8080/",
          "height": 335
        },
        "id": "MPw8vLOrloag",
        "outputId": "d627b518-7c06-487b-ef98-3dea64edc033"
      },
      "source": [
        "count_Class=pd.value_counts(data[\"v1\"], sort= True)\n",
        "print(count_Class)\n",
        "count_Class.plot(kind= 'bar', color= [\"blue\", \"orange\"])\n",
        "# plt.title('Bar chart')\n",
        "plt.show()"
      ],
      "execution_count": 11,
      "outputs": [
        {
          "output_type": "stream",
          "text": [
            "ham     4825\n",
            "spam     747\n",
            "Name: v1, dtype: int64\n"
          ],
          "name": "stdout"
        },
        {
          "output_type": "display_data",
          "data": {
            "image/png": "[encoded data removed]",
            "text/plain": [
              "<Figure size 432x288 with 1 Axes>"
            ]
          },
          "metadata": {
            "tags": [],
            "needs_background": "light"
          }
        }
      ]
    },
    {
      "cell_type": "code",
      "metadata": {
        "colab": {
          "base_uri": "https://localhost:8080/",
          "height": 264
        },
        "id": "8Z08VSxsloak",
        "outputId": "6899ab13-1438-4d00-d78a-c8ab34f276f4"
      },
      "source": [
        "count_Class.plot(kind = 'pie',  autopct='%1.0f%%')\n",
        "plt.title('Pie chart')\n",
        "plt.ylabel('')\n",
        "plt.show()"
      ],
      "execution_count": 12,
      "outputs": [
        {
          "output_type": "display_data",
          "data": {
            "image/png": "[encoded data removed]",
            "text/plain": [
              "<Figure size 432x288 with 1 Axes>"
            ]
          },
          "metadata": {
            "tags": []
          }
        }
      ]
    },
    {
      "cell_type": "markdown",
      "metadata": {
        "id": "pi0A5h5Sloap"
      },
      "source": [
        "## Phân tích dữ liệu"
      ]
    },
    {
      "cell_type": "markdown",
      "metadata": {
        "id": "eCygvZozloaq"
      },
      "source": [
        "Chúng em muốn kiểm tra tần suất xuất hiện của các từ trong những tin nhắn spam cũng như non-spam. Để xem những từ nào sẽ được xuất hiện nhiều nhất trong mỗi loại, từ đó xem được điểm khác biệt giữa những tin nhắn spam và non-spam"
      ]
    },
    {
      "cell_type": "markdown",
      "metadata": {
        "id": "-FXGR-RZDR6Y"
      },
      "source": [
        "### Tách từ"
      ]
    },
    {
      "cell_type": "markdown",
      "metadata": {
        "id": "NWbO_I6cDWXo"
      },
      "source": [
        "Đầu tiên chúng em sẽ tách từng từ trong mỗi câu ra để đếm. Ví dụ cách tách các tin nhắn ham:"
      ]
    },
    {
      "cell_type": "code",
      "metadata": {
        "colab": {
          "base_uri": "https://localhost:8080/"
        },
        "id": "gzerYKVy5Cmd",
        "outputId": "0093ec5e-7dc9-4425-c333-06b655a107a9"
      },
      "source": [
        "# list all ham messages\n",
        "ham_messages=data[data['v1']=='ham'][\"v2\"]\n",
        "ham_messages.head()"
      ],
      "execution_count": 17,
      "outputs": [
        {
          "output_type": "execute_result",
          "data": {
            "text/plain": [
              "0    Go until jurong point, crazy.. Available only ...\n",
              "1                        Ok lar... Joking wif u oni...\n",
              "3    U dun say so early hor... U c already then say...\n",
              "4    Nah I don't think he goes to usf, he lives aro...\n",
              "6    Even my brother is not like to speak with me. ...\n",
              "Name: v2, dtype: object"
            ]
          },
          "metadata": {
            "tags": []
          },
          "execution_count": 17
        }
      ]
    },
    {
      "cell_type": "code",
      "metadata": {
        "colab": {
          "base_uri": "https://localhost:8080/"
        },
        "id": "ZADjPedJ5ivs",
        "outputId": "08dd6c3c-7fbf-40ef-88cb-34b46382d874"
      },
      "source": [
        "# Join all ham messages for counting\n",
        "ham_words = \" \".join(ham_messages).split()\n",
        "ham_words[:10]"
      ],
      "execution_count": 18,
      "outputs": [
        {
          "output_type": "execute_result",
          "data": {
            "text/plain": [
              "['Go',\n",
              " 'until',\n",
              " 'jurong',\n",
              " 'point,',\n",
              " 'crazy..',\n",
              " 'Available',\n",
              " 'only',\n",
              " 'in',\n",
              " 'bugis',\n",
              " 'n']"
            ]
          },
          "metadata": {
            "tags": []
          },
          "execution_count": 18
        }
      ]
    },
    {
      "cell_type": "code",
      "metadata": {
        "scrolled": false,
        "id": "pwTs-UAtAoxT",
        "colab": {
          "base_uri": "https://localhost:8080/"
        },
        "outputId": "37ce94aa-ba62-4be6-a7e6-0a1a4c49292b"
      },
      "source": [
        "#Number of vocabularies in ham_words\n",
        "len(ham_words)"
      ],
      "execution_count": 19,
      "outputs": [
        {
          "output_type": "execute_result",
          "data": {
            "text/plain": [
              "68518"
            ]
          },
          "metadata": {
            "tags": []
          },
          "execution_count": 19
        }
      ]
    },
    {
      "cell_type": "markdown",
      "metadata": {
        "id": "WGGA7uN5AoxU"
      },
      "source": [
        "### Phân tích tỉ lệ xuất hiện các từ trong các tin nhắn Ham/Spam"
      ]
    },
    {
      "cell_type": "markdown",
      "metadata": {
        "id": "hBfurp8rDsbn"
      },
      "source": [
        "### Lấy 20 từ xuất hiện nhiều nhất trong các tin nhắn ham"
      ]
    },
    {
      "cell_type": "code",
      "metadata": {
        "id": "jO9vbwp3AoxU",
        "colab": {
          "base_uri": "https://localhost:8080/",
          "height": 669
        },
        "outputId": "51cf22bc-71f9-4077-add4-33fec5363127"
      },
      "source": [
        "count1 = Counter(\" \".join(data[data['v1']=='ham'][\"v2\"]).split()).most_common(20)\n",
        "df1 = pd.DataFrame.from_dict(count1)\n",
        "df1 = df1.rename(columns={0: \"words in non-spam\", 1 : \"count\"})\n",
        "df1"
      ],
      "execution_count": 20,
      "outputs": [
        {
          "output_type": "execute_result",
          "data": {
            "text/html": [
              "<div>\n",
              "<style scoped>\n",
              "    .dataframe tbody tr th:only-of-type {\n",
              "        vertical-align: middle;\n",
              "    }\n",
              "\n",
              "    .dataframe tbody tr th {\n",
              "        vertical-align: top;\n",
              "    }\n",
              "\n",
              "    .dataframe thead th {\n",
              "        text-align: right;\n",
              "    }\n",
              "</style>\n",
              "<table border=\"1\" class=\"dataframe\">\n",
              "  <thead>\n",
              "    <tr style=\"text-align: right;\">\n",
              "      <th></th>\n",
              "      <th>words in non-spam</th>\n",
              "      <th>count</th>\n",
              "    </tr>\n",
              "  </thead>\n",
              "  <tbody>\n",
              "    <tr>\n",
              "      <th>0</th>\n",
              "      <td>to</td>\n",
              "      <td>1530</td>\n",
              "    </tr>\n",
              "    <tr>\n",
              "      <th>1</th>\n",
              "      <td>you</td>\n",
              "      <td>1458</td>\n",
              "    </tr>\n",
              "    <tr>\n",
              "      <th>2</th>\n",
              "      <td>I</td>\n",
              "      <td>1436</td>\n",
              "    </tr>\n",
              "    <tr>\n",
              "      <th>3</th>\n",
              "      <td>the</td>\n",
              "      <td>1019</td>\n",
              "    </tr>\n",
              "    <tr>\n",
              "      <th>4</th>\n",
              "      <td>a</td>\n",
              "      <td>969</td>\n",
              "    </tr>\n",
              "    <tr>\n",
              "      <th>5</th>\n",
              "      <td>and</td>\n",
              "      <td>738</td>\n",
              "    </tr>\n",
              "    <tr>\n",
              "      <th>6</th>\n",
              "      <td>i</td>\n",
              "      <td>736</td>\n",
              "    </tr>\n",
              "    <tr>\n",
              "      <th>7</th>\n",
              "      <td>in</td>\n",
              "      <td>734</td>\n",
              "    </tr>\n",
              "    <tr>\n",
              "      <th>8</th>\n",
              "      <td>u</td>\n",
              "      <td>645</td>\n",
              "    </tr>\n",
              "    <tr>\n",
              "      <th>9</th>\n",
              "      <td>is</td>\n",
              "      <td>638</td>\n",
              "    </tr>\n",
              "    <tr>\n",
              "      <th>10</th>\n",
              "      <td>my</td>\n",
              "      <td>619</td>\n",
              "    </tr>\n",
              "    <tr>\n",
              "      <th>11</th>\n",
              "      <td>me</td>\n",
              "      <td>537</td>\n",
              "    </tr>\n",
              "    <tr>\n",
              "      <th>12</th>\n",
              "      <td>of</td>\n",
              "      <td>498</td>\n",
              "    </tr>\n",
              "    <tr>\n",
              "      <th>13</th>\n",
              "      <td>for</td>\n",
              "      <td>475</td>\n",
              "    </tr>\n",
              "    <tr>\n",
              "      <th>14</th>\n",
              "      <td>that</td>\n",
              "      <td>398</td>\n",
              "    </tr>\n",
              "    <tr>\n",
              "      <th>15</th>\n",
              "      <td>it</td>\n",
              "      <td>375</td>\n",
              "    </tr>\n",
              "    <tr>\n",
              "      <th>16</th>\n",
              "      <td>your</td>\n",
              "      <td>373</td>\n",
              "    </tr>\n",
              "    <tr>\n",
              "      <th>17</th>\n",
              "      <td>on</td>\n",
              "      <td>352</td>\n",
              "    </tr>\n",
              "    <tr>\n",
              "      <th>18</th>\n",
              "      <td>have</td>\n",
              "      <td>346</td>\n",
              "    </tr>\n",
              "    <tr>\n",
              "      <th>19</th>\n",
              "      <td>at</td>\n",
              "      <td>333</td>\n",
              "    </tr>\n",
              "  </tbody>\n",
              "</table>\n",
              "</div>"
            ],
            "text/plain": [
              "   words in non-spam  count\n",
              "0                 to   1530\n",
              "1                you   1458\n",
              "2                  I   1436\n",
              "3                the   1019\n",
              "4                  a    969\n",
              "5                and    738\n",
              "6                  i    736\n",
              "7                 in    734\n",
              "8                  u    645\n",
              "9                 is    638\n",
              "10                my    619\n",
              "11                me    537\n",
              "12                of    498\n",
              "13               for    475\n",
              "14              that    398\n",
              "15                it    375\n",
              "16              your    373\n",
              "17                on    352\n",
              "18              have    346\n",
              "19                at    333"
            ]
          },
          "metadata": {
            "tags": []
          },
          "execution_count": 20
        }
      ]
    },
    {
      "cell_type": "markdown",
      "metadata": {
        "id": "zZMZ8YotD0AJ"
      },
      "source": [
        "### Lấy 20 từ xuất hiện nhiều nhất trong các tin nhắn spam"
      ]
    },
    {
      "cell_type": "code",
      "metadata": {
        "id": "_BDs3wsvAoxU",
        "colab": {
          "base_uri": "https://localhost:8080/",
          "height": 669
        },
        "outputId": "b97c0311-8a0f-40d3-968f-20c705dcd270"
      },
      "source": [
        "count2 = Counter(\" \".join(data[data['v1']=='spam'][\"v2\"]).split()).most_common(20)\n",
        "df2 = pd.DataFrame.from_dict(count2)\n",
        "df2 = df2.rename(columns={0: \"words in spam\", 1 : \"count_\"})\n",
        "df2"
      ],
      "execution_count": 21,
      "outputs": [
        {
          "output_type": "execute_result",
          "data": {
            "text/html": [
              "<div>\n",
              "<style scoped>\n",
              "    .dataframe tbody tr th:only-of-type {\n",
              "        vertical-align: middle;\n",
              "    }\n",
              "\n",
              "    .dataframe tbody tr th {\n",
              "        vertical-align: top;\n",
              "    }\n",
              "\n",
              "    .dataframe thead th {\n",
              "        text-align: right;\n",
              "    }\n",
              "</style>\n",
              "<table border=\"1\" class=\"dataframe\">\n",
              "  <thead>\n",
              "    <tr style=\"text-align: right;\">\n",
              "      <th></th>\n",
              "      <th>words in spam</th>\n",
              "      <th>count_</th>\n",
              "    </tr>\n",
              "  </thead>\n",
              "  <tbody>\n",
              "    <tr>\n",
              "      <th>0</th>\n",
              "      <td>to</td>\n",
              "      <td>604</td>\n",
              "    </tr>\n",
              "    <tr>\n",
              "      <th>1</th>\n",
              "      <td>a</td>\n",
              "      <td>358</td>\n",
              "    </tr>\n",
              "    <tr>\n",
              "      <th>2</th>\n",
              "      <td>your</td>\n",
              "      <td>187</td>\n",
              "    </tr>\n",
              "    <tr>\n",
              "      <th>3</th>\n",
              "      <td>call</td>\n",
              "      <td>185</td>\n",
              "    </tr>\n",
              "    <tr>\n",
              "      <th>4</th>\n",
              "      <td>or</td>\n",
              "      <td>185</td>\n",
              "    </tr>\n",
              "    <tr>\n",
              "      <th>5</th>\n",
              "      <td>the</td>\n",
              "      <td>178</td>\n",
              "    </tr>\n",
              "    <tr>\n",
              "      <th>6</th>\n",
              "      <td>2</td>\n",
              "      <td>169</td>\n",
              "    </tr>\n",
              "    <tr>\n",
              "      <th>7</th>\n",
              "      <td>for</td>\n",
              "      <td>169</td>\n",
              "    </tr>\n",
              "    <tr>\n",
              "      <th>8</th>\n",
              "      <td>you</td>\n",
              "      <td>164</td>\n",
              "    </tr>\n",
              "    <tr>\n",
              "      <th>9</th>\n",
              "      <td>is</td>\n",
              "      <td>143</td>\n",
              "    </tr>\n",
              "    <tr>\n",
              "      <th>10</th>\n",
              "      <td>Call</td>\n",
              "      <td>136</td>\n",
              "    </tr>\n",
              "    <tr>\n",
              "      <th>11</th>\n",
              "      <td>on</td>\n",
              "      <td>135</td>\n",
              "    </tr>\n",
              "    <tr>\n",
              "      <th>12</th>\n",
              "      <td>have</td>\n",
              "      <td>128</td>\n",
              "    </tr>\n",
              "    <tr>\n",
              "      <th>13</th>\n",
              "      <td>and</td>\n",
              "      <td>119</td>\n",
              "    </tr>\n",
              "    <tr>\n",
              "      <th>14</th>\n",
              "      <td>from</td>\n",
              "      <td>116</td>\n",
              "    </tr>\n",
              "    <tr>\n",
              "      <th>15</th>\n",
              "      <td>ur</td>\n",
              "      <td>107</td>\n",
              "    </tr>\n",
              "    <tr>\n",
              "      <th>16</th>\n",
              "      <td>with</td>\n",
              "      <td>101</td>\n",
              "    </tr>\n",
              "    <tr>\n",
              "      <th>17</th>\n",
              "      <td>&amp;</td>\n",
              "      <td>98</td>\n",
              "    </tr>\n",
              "    <tr>\n",
              "      <th>18</th>\n",
              "      <td>4</td>\n",
              "      <td>93</td>\n",
              "    </tr>\n",
              "    <tr>\n",
              "      <th>19</th>\n",
              "      <td>of</td>\n",
              "      <td>93</td>\n",
              "    </tr>\n",
              "  </tbody>\n",
              "</table>\n",
              "</div>"
            ],
            "text/plain": [
              "   words in spam  count_\n",
              "0             to     604\n",
              "1              a     358\n",
              "2           your     187\n",
              "3           call     185\n",
              "4             or     185\n",
              "5            the     178\n",
              "6              2     169\n",
              "7            for     169\n",
              "8            you     164\n",
              "9             is     143\n",
              "10          Call     136\n",
              "11            on     135\n",
              "12          have     128\n",
              "13           and     119\n",
              "14          from     116\n",
              "15            ur     107\n",
              "16          with     101\n",
              "17             &      98\n",
              "18             4      93\n",
              "19            of      93"
            ]
          },
          "metadata": {
            "tags": []
          },
          "execution_count": 21
        }
      ]
    },
    {
      "cell_type": "code",
      "metadata": {
        "colab": {
          "base_uri": "https://localhost:8080/",
          "height": 311
        },
        "id": "6q76F2Ptloau",
        "outputId": "83aae15b-34f1-4e4b-ceb2-88cdb91ed830"
      },
      "source": [
        "df1.plot.bar(legend = False)\n",
        "y_pos = np.arange(len(df1[\"words in non-spam\"]))\n",
        "plt.xticks(y_pos, df1[\"words in non-spam\"])\n",
        "plt.title('Tần xuất xuất hiện từ trong các tin nhắn non-spam')\n",
        "plt.xlabel('từ')\n",
        "plt.ylabel('số lượng')\n",
        "plt.show()"
      ],
      "execution_count": 23,
      "outputs": [
        {
          "output_type": "display_data",
          "data": {
            "image/png": "[encoded data removed]",
            "text/plain": [
              "<Figure size 432x288 with 1 Axes>"
            ]
          },
          "metadata": {
            "tags": [],
            "needs_background": "light"
          }
        }
      ]
    },
    {
      "cell_type": "code",
      "metadata": {
        "colab": {
          "base_uri": "https://localhost:8080/",
          "height": 311
        },
        "id": "OzcholUtloaw",
        "outputId": "e6ad3fe6-493a-450b-fd2e-c6b33ae7c7ce"
      },
      "source": [
        "df2.plot.bar(legend = False, color = 'orange')\n",
        "y_pos = np.arange(len(df2[\"words in spam\"]))\n",
        "plt.xticks(y_pos, df2[\"words in spam\"])\n",
        "plt.title('Tần xuất xuất hiện từ trong các tin nhắn spam')\n",
        "plt.xlabel('từ')\n",
        "plt.ylabel('số lượng')\n",
        "plt.show()"
      ],
      "execution_count": 24,
      "outputs": [
        {
          "output_type": "display_data",
          "data": {
            "image/png": "[encoded data removed]",
            "text/plain": [
              "<Figure size 432x288 with 1 Axes>"
            ]
          },
          "metadata": {
            "tags": [],
            "needs_background": "light"
          }
        }
      ]
    },
    {
      "cell_type": "markdown",
      "metadata": {
        "id": "rDUP1mlSloa2"
      },
      "source": [
        "Có thể thấy phần lớn những từ thường xuyên xuất hiện trong cả 2 tập tin nhắn là những \"stop words\", ví dụ như 'to', 'a', 'or', .... <p>\n",
        "\n",
        "Những stop words này là những stop words phổ biến. Trong một số trường hợp, sẽ có những stop words đặc biệt phản ánh đúng ý nghĩa của tập dữ liệu đó (ví dụ phân loại truyện cổ tích và paper nghiên cứu khoa học thì những stop words là đại từ nhân xưng sẽ phản ánh tốt hơn về tập truyện cổ tích) \n",
        "\n",
        "Trong bài toán này, chúng em thấy không có trường hợp nào quá đặc biệt để giữ lại.\n",
        "\n",
        "Vì vậy, chúng em sẽ tiếp tục loại bỏ đi những stop words này trước khi train để chính xác hơn"
      ]
    },
    {
      "cell_type": "markdown",
      "metadata": {
        "id": "f-b9-g9uloa3"
      },
      "source": [
        "## Tiền xử lý dữ liệu"
      ]
    },
    {
      "cell_type": "markdown",
      "metadata": {
        "id": "37OiyhOVloa5"
      },
      "source": [
        "### Chúng em sẽ sử dụng các kỹ thuật tokenizing, chuyển đổi sang bộ véc tơ và loại bỏ các stop words"
      ]
    },
    {
      "cell_type": "code",
      "metadata": {
        "id": "QeBldkSXAoxW",
        "colab": {
          "base_uri": "https://localhost:8080/"
        },
        "outputId": "6ff87e97-05bb-4579-d86b-9a07ed302a42"
      },
      "source": [
        "data[\"v2\"].head()"
      ],
      "execution_count": 29,
      "outputs": [
        {
          "output_type": "execute_result",
          "data": {
            "text/plain": [
              "0    Go until jurong point, crazy.. Available only ...\n",
              "1                        Ok lar... Joking wif u oni...\n",
              "2    Free entry in 2 a wkly comp to win FA Cup fina...\n",
              "3    U dun say so early hor... U c already then say...\n",
              "4    Nah I don't think he goes to usf, he lives aro...\n",
              "Name: v2, dtype: object"
            ]
          },
          "metadata": {
            "tags": []
          },
          "execution_count": 29
        }
      ]
    },
    {
      "cell_type": "code",
      "metadata": {
        "colab": {
          "base_uri": "https://localhost:8080/"
        },
        "id": "2kkrgYq7loa5",
        "scrolled": true,
        "outputId": "83897e6b-e1c5-4ce5-fa4a-dfa8f4f43bdf"
      },
      "source": [
        "f = feature_extraction.text.CountVectorizer(stop_words = 'english')\n",
        "X = f.fit_transform(data[\"v2\"])\n",
        "np.shape(X)"
      ],
      "execution_count": 30,
      "outputs": [
        {
          "output_type": "execute_result",
          "data": {
            "text/plain": [
              "(5572, 8404)"
            ]
          },
          "metadata": {
            "tags": []
          },
          "execution_count": 30
        }
      ]
    },
    {
      "cell_type": "code",
      "metadata": {
        "id": "Ld7gIXNaAoxX",
        "colab": {
          "base_uri": "https://localhost:8080/"
        },
        "outputId": "0b645bf5-7150-41b3-cb18-aa431ed99e61"
      },
      "source": [
        "X.shape"
      ],
      "execution_count": 31,
      "outputs": [
        {
          "output_type": "execute_result",
          "data": {
            "text/plain": [
              "(5572, 8404)"
            ]
          },
          "metadata": {
            "tags": []
          },
          "execution_count": 31
        }
      ]
    },
    {
      "cell_type": "markdown",
      "metadata": {
        "id": "cobcvVdcGCRl"
      },
      "source": [
        "Ta được kết quả X là một véc tơ có số chiều là 5572 × 8404. Tương đương với 5572 số văn\n",
        "bản (tổng số tin nhắn), và nhóm đã chuẩn hóa về 8404 chiều tương đương với độ dài của\n",
        "mỗi văn bản. Với mỗi chiều này sẽ được gán giá trị bằng 1 nếu từ tương ứng với chiều đó\n",
        "xuất hiện trong văn bản, và 0 nếu không xuất hiện."
      ]
    },
    {
      "cell_type": "code",
      "metadata": {
        "id": "kYtpNPNCAoxX",
        "colab": {
          "base_uri": "https://localhost:8080/"
        },
        "outputId": "f1e227a8-a40c-4838-c2e2-98d573f96322"
      },
      "source": [
        "X.toarray()"
      ],
      "execution_count": 32,
      "outputs": [
        {
          "output_type": "execute_result",
          "data": {
            "text/plain": [
              "array([[0, 0, 0, ..., 0, 0, 0],\n",
              "       [0, 0, 0, ..., 0, 0, 0],\n",
              "       [0, 0, 0, ..., 0, 0, 0],\n",
              "       ...,\n",
              "       [0, 0, 0, ..., 0, 0, 0],\n",
              "       [0, 0, 0, ..., 0, 0, 0],\n",
              "       [0, 0, 0, ..., 0, 0, 0]])"
            ]
          },
          "metadata": {
            "tags": []
          },
          "execution_count": 32
        }
      ]
    },
    {
      "cell_type": "code",
      "metadata": {
        "id": "BE0ApZ_PAoxY",
        "colab": {
          "base_uri": "https://localhost:8080/"
        },
        "outputId": "721a405a-e71e-4974-dd10-45fc99cd6d26"
      },
      "source": [
        "#xem một số kí tự\n",
        "X.toarray()[X.toarray()[:,0] !=0]"
      ],
      "execution_count": 33,
      "outputs": [
        {
          "output_type": "execute_result",
          "data": {
            "text/plain": [
              "array([[1, 0, 0, ..., 0, 0, 0],\n",
              "       [1, 0, 0, ..., 0, 0, 0],\n",
              "       [1, 0, 0, ..., 0, 0, 0],\n",
              "       ...,\n",
              "       [1, 0, 0, ..., 0, 0, 0],\n",
              "       [1, 0, 0, ..., 0, 0, 0],\n",
              "       [1, 0, 0, ..., 0, 0, 0]])"
            ]
          },
          "metadata": {
            "tags": []
          },
          "execution_count": 33
        }
      ]
    },
    {
      "cell_type": "markdown",
      "metadata": {
        "id": "3zkH7_aylobA"
      },
      "source": [
        "Vậy ta đã có được một bộ vector (5572, 8404) để chuẩn bị cho việc đưa vào bộ học máy\n",
        "Naive Bayes"
      ]
    },
    {
      "cell_type": "markdown",
      "metadata": {
        "id": "YBdpCsGMlobB"
      },
      "source": [
        "## Phân tích kỳ vọng"
      ]
    },
    {
      "cell_type": "markdown",
      "metadata": {
        "id": "7lxCh5OblobB"
      },
      "source": [
        "Trước khi đi sâu vào training và đánh giá, nhóm cần xác định kỳ vọng của bài toán này là gì. Cần training những gì và đánh giá cái gì.\n",
        "\n",
        "Nên tập trung vào hệ số recall hay precision. Hãy làm rõ như sau:"
      ]
    },
    {
      "cell_type": "markdown",
      "metadata": {
        "id": "zPUkJZHZlobC"
      },
      "source": [
        "Xét 2 trường hợp:\n",
        "\n",
        "1. Khi mở trình quản lý tin nhắn bất kỳ lên, sau khi\n",
        "đọc những tin nhắn mới, ta thấy có một vài tin nhắn là spam. Và đơn giản chúng ta sẽ chuyển nó vào hộp thoại những tin nhắn spam.\n",
        "2. khi mở trình quản lý tin nhắn bất kỳ lên, ta sẽ không thấy một vài tin nhắn quan trọng hoàn toàn không phải spam nhưng lại biến mất ở hộp tin Inbox, vì nó đã bị phân lớp sai vào hộp thoại spam. Chuyện này khá nguy hiểm vì ta thường ít vào hộp thoại spam để kiểm tra và khả năng cao là ta sẽ mất tin nhắn quan trọng đó"
      ]
    },
    {
      "cell_type": "markdown",
      "metadata": {
        "id": "nGNAHqCvG0cp"
      },
      "source": [
        "Và nhóm sẽ mong muốn kết quả sau khi train sẽ giúp bộ phân loại cho ra trường hợp 1 thay vì trường hợp 2. Hay nói cách khác\n",
        "\n",
        "Phải giảm thiểu tối đa FP (False Positive), hay tương đương với việc tối đa hóa Precision, nếu Precision bằng 1 có nghĩa là không có bất kỳ tin nhắn nào bị bỏ sót ở hộp thoại spam. Và việc Recall có hơi thấp là chuyện chấp nhận được, và điểm rất hay ở bài toán phân loại tin nhắn spam này với Naive Bayes là recall sẽ luôn được cải thiện, và cải thiện rất nhanh bằng cách ta chuyển những tin nhắn spam vào\n",
        "hộp thoại spam sau khi đọc được (vì việc cập nhật trọng số rất nhanh với Naive Bayes)."
      ]
    },
    {
      "cell_type": "markdown",
      "metadata": {
        "id": "9xBDO6zQHIX_"
      },
      "source": [
        "## Phân tập training và testing"
      ]
    },
    {
      "cell_type": "code",
      "metadata": {
        "id": "ySbhcatxAoxZ",
        "colab": {
          "base_uri": "https://localhost:8080/",
          "height": 204
        },
        "outputId": "d7e118c5-9bc5-4cf7-afe2-2dcfd3aff6b3"
      },
      "source": [
        "data.head()"
      ],
      "execution_count": 34,
      "outputs": [
        {
          "output_type": "execute_result",
          "data": {
            "text/html": [
              "<div>\n",
              "<style scoped>\n",
              "    .dataframe tbody tr th:only-of-type {\n",
              "        vertical-align: middle;\n",
              "    }\n",
              "\n",
              "    .dataframe tbody tr th {\n",
              "        vertical-align: top;\n",
              "    }\n",
              "\n",
              "    .dataframe thead th {\n",
              "        text-align: right;\n",
              "    }\n",
              "</style>\n",
              "<table border=\"1\" class=\"dataframe\">\n",
              "  <thead>\n",
              "    <tr style=\"text-align: right;\">\n",
              "      <th></th>\n",
              "      <th>v1</th>\n",
              "      <th>v2</th>\n",
              "      <th>Unnamed: 2</th>\n",
              "      <th>Unnamed: 3</th>\n",
              "      <th>Unnamed: 4</th>\n",
              "    </tr>\n",
              "  </thead>\n",
              "  <tbody>\n",
              "    <tr>\n",
              "      <th>0</th>\n",
              "      <td>ham</td>\n",
              "      <td>Go until jurong point, crazy.. Available only ...</td>\n",
              "      <td>NaN</td>\n",
              "      <td>NaN</td>\n",
              "      <td>NaN</td>\n",
              "    </tr>\n",
              "    <tr>\n",
              "      <th>1</th>\n",
              "      <td>ham</td>\n",
              "      <td>Ok lar... Joking wif u oni...</td>\n",
              "      <td>NaN</td>\n",
              "      <td>NaN</td>\n",
              "      <td>NaN</td>\n",
              "    </tr>\n",
              "    <tr>\n",
              "      <th>2</th>\n",
              "      <td>spam</td>\n",
              "      <td>Free entry in 2 a wkly comp to win FA Cup fina...</td>\n",
              "      <td>NaN</td>\n",
              "      <td>NaN</td>\n",
              "      <td>NaN</td>\n",
              "    </tr>\n",
              "    <tr>\n",
              "      <th>3</th>\n",
              "      <td>ham</td>\n",
              "      <td>U dun say so early hor... U c already then say...</td>\n",
              "      <td>NaN</td>\n",
              "      <td>NaN</td>\n",
              "      <td>NaN</td>\n",
              "    </tr>\n",
              "    <tr>\n",
              "      <th>4</th>\n",
              "      <td>ham</td>\n",
              "      <td>Nah I don't think he goes to usf, he lives aro...</td>\n",
              "      <td>NaN</td>\n",
              "      <td>NaN</td>\n",
              "      <td>NaN</td>\n",
              "    </tr>\n",
              "  </tbody>\n",
              "</table>\n",
              "</div>"
            ],
            "text/plain": [
              "     v1  ... Unnamed: 4\n",
              "0   ham  ...        NaN\n",
              "1   ham  ...        NaN\n",
              "2  spam  ...        NaN\n",
              "3   ham  ...        NaN\n",
              "4   ham  ...        NaN\n",
              "\n",
              "[5 rows x 5 columns]"
            ]
          },
          "metadata": {
            "tags": []
          },
          "execution_count": 34
        }
      ]
    },
    {
      "cell_type": "code",
      "metadata": {
        "id": "9j960ppWAoxZ"
      },
      "source": [
        "data[\"v1\"]=data[\"v1\"].map({'spam':1,'ham':0})"
      ],
      "execution_count": 35,
      "outputs": []
    },
    {
      "cell_type": "code",
      "metadata": {
        "id": "CzAuWIbnAoxa",
        "colab": {
          "base_uri": "https://localhost:8080/"
        },
        "outputId": "af0ffe2a-1695-4cf3-a960-63081592ea2a"
      },
      "source": [
        "data[\"v1\"].head()"
      ],
      "execution_count": 36,
      "outputs": [
        {
          "output_type": "execute_result",
          "data": {
            "text/plain": [
              "0    0\n",
              "1    0\n",
              "2    1\n",
              "3    0\n",
              "4    0\n",
              "Name: v1, dtype: int64"
            ]
          },
          "metadata": {
            "tags": []
          },
          "execution_count": 36
        }
      ]
    },
    {
      "cell_type": "code",
      "metadata": {
        "id": "6ZVNQIXgAoxa",
        "colab": {
          "base_uri": "https://localhost:8080/"
        },
        "outputId": "1d9e3c81-4deb-4acc-ecab-dacc9f2dd80a"
      },
      "source": [
        "#split training/test set\n",
        "X_train, X_test, y_train, y_test = model_selection.train_test_split(X, data['v1'], test_size=0.33, random_state=42)\n",
        "\n",
        "X_train = X_train.toarray()\n",
        "X_test = X_test.toarray()\n",
        "y_train = y_train.to_numpy()\n",
        "y_test = y_test.to_numpy()\n",
        "\n",
        "print([np.shape(X_train), np.shape(X_test)])"
      ],
      "execution_count": 40,
      "outputs": [
        {
          "output_type": "stream",
          "text": [
            "[(3733, 8404), (1839, 8404)]\n"
          ],
          "name": "stdout"
        }
      ]
    },
    {
      "cell_type": "markdown",
      "metadata": {
        "id": "aIwNBg4jlobK"
      },
      "source": [
        "## Hiện thực thuật toán Naive Bayes"
      ]
    },
    {
      "cell_type": "markdown",
      "metadata": {
        "id": "TWUWRfsMHVtQ"
      },
      "source": [
        "### Chọn hàm phân phối"
      ]
    },
    {
      "cell_type": "markdown",
      "metadata": {
        "id": "OQA_YQoHlobN"
      },
      "source": [
        "Nhóm chúng tôi chọn phân phối Đa thức (Multinomial distribution) cho bài toán phân loại thư rác này.\n",
        "\n",
        "Khác với các phân phối thường gặp của bộ phân lớp Naive Bayes như Gaussian hay Bernoulli. Nhóm chọn phân phối Đa thức (Multinomial) vì phân phối này thích hợp với những thuộc tính rời rạc (discrete features), cụ thể là số đếm các từ trong một văn bản cho bài toán của nhóm.\n",
        "\n",
        "Và sẽ có một hệ số làm mềm Laplace $\\alpha$ chạy trong\n",
        "khoảng từ 1/100000 đến 20 với step là 0.11 . Sau đó chọn lọc lại $\\alpha$ tốt nhất."
      ]
    },
    {
      "cell_type": "code",
      "metadata": {
        "id": "utjG_dLtJcy1"
      },
      "source": [
        "import numpy as np\n",
        "np.set_printoptions(precision=6)\n",
        "\n",
        "class MultinomialNB(object):\n",
        "    def __init__(self, alpha=1.0):\n",
        "        self.alpha = alpha\n",
        "\n",
        "    def fit(self, X, y):\n",
        "        count_sample = X.shape[0]\n",
        "        separated = [[x for x, t in zip(X, y) if t == c] for c in np.unique(y)]\n",
        "        self.class_log_prior_ = [np.log(len(i) / count_sample) for i in separated]\n",
        "        count = np.array([np.array(i).sum(axis=0) for i in separated]) + self.alpha\n",
        "        self.feature_log_prob_ = np.log(count / count.sum(axis=1)[np.newaxis].T)\n",
        "        return self\n",
        "\n",
        "    def predict_log_proba(self, X):\n",
        "        return [(self.feature_log_prob_ * x).sum(axis=1) + self.class_log_prior_\n",
        "                for x in X]\n",
        "\n",
        "    def predict(self, X):\n",
        "        return np.argmax(self.predict_log_proba(X), axis=1)\n",
        "\n",
        "    def score(self, X, y):\n",
        "        return accuracy_score(y, self.predict(X))\n",
        "\n",
        "def accuracy_score(actual, predicted):\n",
        "    correct = 0\n",
        "    for i in range(len(actual)):\n",
        "      if actual[i] == predicted[i]:\n",
        "        correct += 1\n",
        "    return correct / float(len(actual)) * 100.0"
      ],
      "execution_count": 41,
      "outputs": []
    },
    {
      "cell_type": "code",
      "metadata": {
        "id": "MiOCHp-GlobN"
      },
      "source": [
        "# Chọn alpha\n",
        "list_alpha = np.arange(1/100000, 20, 0.11)\n",
        "score_train = np.zeros(len(list_alpha))\n",
        "score_test = np.zeros(len(list_alpha))\n",
        "recall_test = np.zeros(len(list_alpha))\n",
        "precision_test= np.zeros(len(list_alpha))\n",
        "count = 0\n",
        "for alpha in list_alpha:\n",
        "    bayes = MultinomialNB(alpha=alpha)\n",
        "    bayes.fit(X_train, y_train)\n",
        "    score_train[count] = bayes.score(X_train, y_train)\n",
        "    score_test[count]= bayes.score(X_test, y_test)\n",
        "    recall_test[count] = metrics.recall_score(y_test, bayes.predict(X_test))\n",
        "    precision_test[count] = metrics.precision_score(y_test, bayes.predict(X_test))\n",
        "    count = count + 1 "
      ],
      "execution_count": 42,
      "outputs": []
    },
    {
      "cell_type": "markdown",
      "metadata": {
        "id": "WGmr2jjrlobQ"
      },
      "source": [
        "Kết quả đánh giá sau khi 10 α đầu tiên được áp dụng"
      ]
    },
    {
      "cell_type": "code",
      "metadata": {
        "colab": {
          "base_uri": "https://localhost:8080/",
          "height": 359
        },
        "id": "gvkbsGPVlobQ",
        "outputId": "56851d55-9992-432c-e559-24c3d870842a"
      },
      "source": [
        "matrix = np.matrix(np.c_[list_alpha, score_train, score_test, recall_test, precision_test])\n",
        "models = pd.DataFrame(data = matrix, columns = \n",
        "             ['alpha', 'Train Accuracy', 'Test Accuracy', 'Test Recall', 'Test Precision'])\n",
        "models.head(n=10)"
      ],
      "execution_count": 43,
      "outputs": [
        {
          "output_type": "execute_result",
          "data": {
            "text/html": [
              "<div>\n",
              "<style scoped>\n",
              "    .dataframe tbody tr th:only-of-type {\n",
              "        vertical-align: middle;\n",
              "    }\n",
              "\n",
              "    .dataframe tbody tr th {\n",
              "        vertical-align: top;\n",
              "    }\n",
              "\n",
              "    .dataframe thead th {\n",
              "        text-align: right;\n",
              "    }\n",
              "</style>\n",
              "<table border=\"1\" class=\"dataframe\">\n",
              "  <thead>\n",
              "    <tr style=\"text-align: right;\">\n",
              "      <th></th>\n",
              "      <th>alpha</th>\n",
              "      <th>Train Accuracy</th>\n",
              "      <th>Test Accuracy</th>\n",
              "      <th>Test Recall</th>\n",
              "      <th>Test Precision</th>\n",
              "    </tr>\n",
              "  </thead>\n",
              "  <tbody>\n",
              "    <tr>\n",
              "      <th>0</th>\n",
              "      <td>0.00001</td>\n",
              "      <td>99.866059</td>\n",
              "      <td>97.444263</td>\n",
              "      <td>0.920635</td>\n",
              "      <td>0.895753</td>\n",
              "    </tr>\n",
              "    <tr>\n",
              "      <th>1</th>\n",
              "      <td>0.11001</td>\n",
              "      <td>99.785695</td>\n",
              "      <td>97.607395</td>\n",
              "      <td>0.936508</td>\n",
              "      <td>0.893939</td>\n",
              "    </tr>\n",
              "    <tr>\n",
              "      <th>2</th>\n",
              "      <td>0.22001</td>\n",
              "      <td>99.785695</td>\n",
              "      <td>97.716150</td>\n",
              "      <td>0.936508</td>\n",
              "      <td>0.900763</td>\n",
              "    </tr>\n",
              "    <tr>\n",
              "      <th>3</th>\n",
              "      <td>0.33001</td>\n",
              "      <td>99.758907</td>\n",
              "      <td>97.716150</td>\n",
              "      <td>0.936508</td>\n",
              "      <td>0.900763</td>\n",
              "    </tr>\n",
              "    <tr>\n",
              "      <th>4</th>\n",
              "      <td>0.44001</td>\n",
              "      <td>99.705331</td>\n",
              "      <td>97.716150</td>\n",
              "      <td>0.936508</td>\n",
              "      <td>0.900763</td>\n",
              "    </tr>\n",
              "    <tr>\n",
              "      <th>5</th>\n",
              "      <td>0.55001</td>\n",
              "      <td>99.624967</td>\n",
              "      <td>97.661773</td>\n",
              "      <td>0.936508</td>\n",
              "      <td>0.897338</td>\n",
              "    </tr>\n",
              "    <tr>\n",
              "      <th>6</th>\n",
              "      <td>0.66001</td>\n",
              "      <td>99.651755</td>\n",
              "      <td>97.607395</td>\n",
              "      <td>0.932540</td>\n",
              "      <td>0.896947</td>\n",
              "    </tr>\n",
              "    <tr>\n",
              "      <th>7</th>\n",
              "      <td>0.77001</td>\n",
              "      <td>99.651755</td>\n",
              "      <td>97.607395</td>\n",
              "      <td>0.924603</td>\n",
              "      <td>0.903101</td>\n",
              "    </tr>\n",
              "    <tr>\n",
              "      <th>8</th>\n",
              "      <td>0.88001</td>\n",
              "      <td>99.624967</td>\n",
              "      <td>97.607395</td>\n",
              "      <td>0.924603</td>\n",
              "      <td>0.903101</td>\n",
              "    </tr>\n",
              "    <tr>\n",
              "      <th>9</th>\n",
              "      <td>0.99001</td>\n",
              "      <td>99.598178</td>\n",
              "      <td>97.607395</td>\n",
              "      <td>0.920635</td>\n",
              "      <td>0.906250</td>\n",
              "    </tr>\n",
              "  </tbody>\n",
              "</table>\n",
              "</div>"
            ],
            "text/plain": [
              "     alpha  Train Accuracy  Test Accuracy  Test Recall  Test Precision\n",
              "0  0.00001       99.866059      97.444263     0.920635        0.895753\n",
              "1  0.11001       99.785695      97.607395     0.936508        0.893939\n",
              "2  0.22001       99.785695      97.716150     0.936508        0.900763\n",
              "3  0.33001       99.758907      97.716150     0.936508        0.900763\n",
              "4  0.44001       99.705331      97.716150     0.936508        0.900763\n",
              "5  0.55001       99.624967      97.661773     0.936508        0.897338\n",
              "6  0.66001       99.651755      97.607395     0.932540        0.896947\n",
              "7  0.77001       99.651755      97.607395     0.924603        0.903101\n",
              "8  0.88001       99.624967      97.607395     0.924603        0.903101\n",
              "9  0.99001       99.598178      97.607395     0.920635        0.906250"
            ]
          },
          "metadata": {
            "tags": []
          },
          "execution_count": 43
        }
      ]
    },
    {
      "cell_type": "markdown",
      "metadata": {
        "id": "5LGWFi3ClobV"
      },
      "source": [
        "Có thể thấy kết quả đang\n",
        "khá tốt. Nhưng với việc mong muốn cực đại hóa Precision như đã trình bày, và precision\n",
        "vẫn đang tăng (mặc dù recall có thể giảm), nhóm sẽ tiếp tục tăng hệ số $\\alpha$ lên.\n",
        "\n",
        "Đây là kết quả tốt nhất"
      ]
    },
    {
      "cell_type": "code",
      "metadata": {
        "colab": {
          "base_uri": "https://localhost:8080/"
        },
        "id": "EhSjVn03lobW",
        "outputId": "3bed8914-7840-4246-b0f4-d6cd73589fbc"
      },
      "source": [
        "best_index = models['Test Precision'].idxmax()\n",
        "models.iloc[best_index, :]"
      ],
      "execution_count": 44,
      "outputs": [
        {
          "output_type": "execute_result",
          "data": {
            "text/plain": [
              "alpha             15.730010\n",
              "Train Accuracy    97.964104\n",
              "Test Accuracy     96.954867\n",
              "Test Recall        0.777778\n",
              "Test Precision     1.000000\n",
              "Name: 143, dtype: float64"
            ]
          },
          "metadata": {
            "tags": []
          },
          "execution_count": 44
        }
      ]
    },
    {
      "cell_type": "code",
      "metadata": {
        "colab": {
          "base_uri": "https://localhost:8080/",
          "height": 204
        },
        "id": "GjZAho5zlobc",
        "outputId": "b578c049-ef0e-4144-fb68-ced5086a295d"
      },
      "source": [
        "models[models['Test Precision']==1].head(n=5)"
      ],
      "execution_count": 46,
      "outputs": [
        {
          "output_type": "execute_result",
          "data": {
            "text/html": [
              "<div>\n",
              "<style scoped>\n",
              "    .dataframe tbody tr th:only-of-type {\n",
              "        vertical-align: middle;\n",
              "    }\n",
              "\n",
              "    .dataframe tbody tr th {\n",
              "        vertical-align: top;\n",
              "    }\n",
              "\n",
              "    .dataframe thead th {\n",
              "        text-align: right;\n",
              "    }\n",
              "</style>\n",
              "<table border=\"1\" class=\"dataframe\">\n",
              "  <thead>\n",
              "    <tr style=\"text-align: right;\">\n",
              "      <th></th>\n",
              "      <th>alpha</th>\n",
              "      <th>Train Accuracy</th>\n",
              "      <th>Test Accuracy</th>\n",
              "      <th>Test Recall</th>\n",
              "      <th>Test Precision</th>\n",
              "    </tr>\n",
              "  </thead>\n",
              "  <tbody>\n",
              "    <tr>\n",
              "      <th>143</th>\n",
              "      <td>15.73001</td>\n",
              "      <td>97.964104</td>\n",
              "      <td>96.954867</td>\n",
              "      <td>0.777778</td>\n",
              "      <td>1.0</td>\n",
              "    </tr>\n",
              "    <tr>\n",
              "      <th>144</th>\n",
              "      <td>15.84001</td>\n",
              "      <td>97.964104</td>\n",
              "      <td>96.954867</td>\n",
              "      <td>0.777778</td>\n",
              "      <td>1.0</td>\n",
              "    </tr>\n",
              "    <tr>\n",
              "      <th>145</th>\n",
              "      <td>15.95001</td>\n",
              "      <td>97.964104</td>\n",
              "      <td>96.954867</td>\n",
              "      <td>0.777778</td>\n",
              "      <td>1.0</td>\n",
              "    </tr>\n",
              "    <tr>\n",
              "      <th>146</th>\n",
              "      <td>16.06001</td>\n",
              "      <td>97.937316</td>\n",
              "      <td>96.954867</td>\n",
              "      <td>0.777778</td>\n",
              "      <td>1.0</td>\n",
              "    </tr>\n",
              "    <tr>\n",
              "      <th>147</th>\n",
              "      <td>16.17001</td>\n",
              "      <td>97.937316</td>\n",
              "      <td>96.954867</td>\n",
              "      <td>0.777778</td>\n",
              "      <td>1.0</td>\n",
              "    </tr>\n",
              "  </tbody>\n",
              "</table>\n",
              "</div>"
            ],
            "text/plain": [
              "        alpha  Train Accuracy  Test Accuracy  Test Recall  Test Precision\n",
              "143  15.73001       97.964104      96.954867     0.777778             1.0\n",
              "144  15.84001       97.964104      96.954867     0.777778             1.0\n",
              "145  15.95001       97.964104      96.954867     0.777778             1.0\n",
              "146  16.06001       97.937316      96.954867     0.777778             1.0\n",
              "147  16.17001       97.937316      96.954867     0.777778             1.0"
            ]
          },
          "metadata": {
            "tags": []
          },
          "execution_count": 46
        }
      ]
    },
    {
      "cell_type": "markdown",
      "metadata": {
        "id": "GVIkYZaZlobg"
      },
      "source": [
        "Có thể thấy Precision hiện tại đã đạt mức mong muốn là 1.0 mặc dù recall chỉ ở mức\n",
        "0.77. Bên cạnh đó, có thể có nhiều $\\alpha$ cho Precision đạt đến ngưỡng bằng 1.0, chúng ta\n",
        "cần lấy $\\alpha$ vừa làm precision tối đa và test accurate cao nhất."
      ]
    },
    {
      "cell_type": "code",
      "metadata": {
        "colab": {
          "base_uri": "https://localhost:8080/"
        },
        "id": "mieHlO2olobg",
        "outputId": "164d223b-356d-4ee1-a50c-1118eb16fd0a"
      },
      "source": [
        "best_index = models[models['Test Precision']==1]['Test Accuracy'].idxmax()\n",
        "bayes = naive_bayes.MultinomialNB(alpha=list_alpha[best_index])\n",
        "bayes.fit(X_train, y_train)\n",
        "models.iloc[best_index, :]"
      ],
      "execution_count": 47,
      "outputs": [
        {
          "output_type": "execute_result",
          "data": {
            "text/plain": [
              "alpha             15.730010\n",
              "Train Accuracy    97.964104\n",
              "Test Accuracy     96.954867\n",
              "Test Recall        0.777778\n",
              "Test Precision     1.000000\n",
              "Name: 143, dtype: float64"
            ]
          },
          "metadata": {
            "tags": []
          },
          "execution_count": 47
        }
      ]
    },
    {
      "cell_type": "markdown",
      "metadata": {
        "id": "3ggGjKQMlobk"
      },
      "source": [
        "#### Confusion matrix "
      ]
    },
    {
      "cell_type": "code",
      "metadata": {
        "colab": {
          "base_uri": "https://localhost:8080/",
          "height": 111
        },
        "id": "oYdoQD0Jlobk",
        "scrolled": true,
        "outputId": "4ce66aaa-659b-4e08-b80f-6a3ade7861ba"
      },
      "source": [
        "m_confusion_test = metrics.confusion_matrix(y_test, bayes.predict(X_test))\n",
        "pd.DataFrame(data = m_confusion_test, columns = ['Predicted 0', 'Predicted 1'],\n",
        "            index = ['Actual 0', 'Actual 1'])"
      ],
      "execution_count": 49,
      "outputs": [
        {
          "output_type": "execute_result",
          "data": {
            "text/html": [
              "<div>\n",
              "<style scoped>\n",
              "    .dataframe tbody tr th:only-of-type {\n",
              "        vertical-align: middle;\n",
              "    }\n",
              "\n",
              "    .dataframe tbody tr th {\n",
              "        vertical-align: top;\n",
              "    }\n",
              "\n",
              "    .dataframe thead th {\n",
              "        text-align: right;\n",
              "    }\n",
              "</style>\n",
              "<table border=\"1\" class=\"dataframe\">\n",
              "  <thead>\n",
              "    <tr style=\"text-align: right;\">\n",
              "      <th></th>\n",
              "      <th>Predicted 0</th>\n",
              "      <th>Predicted 1</th>\n",
              "    </tr>\n",
              "  </thead>\n",
              "  <tbody>\n",
              "    <tr>\n",
              "      <th>Actual 0</th>\n",
              "      <td>1587</td>\n",
              "      <td>0</td>\n",
              "    </tr>\n",
              "    <tr>\n",
              "      <th>Actual 1</th>\n",
              "      <td>56</td>\n",
              "      <td>196</td>\n",
              "    </tr>\n",
              "  </tbody>\n",
              "</table>\n",
              "</div>"
            ],
            "text/plain": [
              "          Predicted 0  Predicted 1\n",
              "Actual 0         1587            0\n",
              "Actual 1           56          196"
            ]
          },
          "metadata": {
            "tags": []
          },
          "execution_count": 49
        }
      ]
    },
    {
      "cell_type": "markdown",
      "metadata": {
        "id": "67VpYzq9lobp"
      },
      "source": [
        "## Kết  luận\n",
        "\n",
        "1. Trong 1839 tin nhắn của tập test, không có bất kỳ tin nhắn bình thường nào bị\n",
        "phân loại nhầm sang hộp thoại spam. Việc này đảm bảo được tất cả những tin nhắn\n",
        "không phải spam được gửi đến, chúng ta đều đọc được<p>\n",
        "2. Có 56 tin nhắn trên tổng số 1839 tin nhắn của tập test bị phân lớp sai sang hộp\n",
        "thoại inbox khi chúng chính là những tin nhắn spam. Việc này chúng ta có thể dễ\n",
        "dàng di chuyển chúng vào hộp thoại spam, đồng thời cập nhật lại hệ số cho thuật\n",
        "toán, giúp việc phân loại đúng hơn về sau này."
      ]
    }
  ]
}